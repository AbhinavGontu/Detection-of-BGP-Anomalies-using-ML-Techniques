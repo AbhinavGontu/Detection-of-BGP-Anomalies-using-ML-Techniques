{
  "nbformat": 4,
  "nbformat_minor": 0,
  "metadata": {
    "colab": {
      "provenance": []
    },
    "kernelspec": {
      "display_name": "Python 3",
      "name": "python3"
    },
    "language_info": {
      "name": "python"
    }
  },
  "cells": [
    {
      "cell_type": "markdown",
      "metadata": {
        "id": "xBIaoFAu80ZI"
      },
      "source": [
        "Setting up the apt repos"
      ]
    },
    {
      "cell_type": "code",
      "metadata": {
        "colab": {
          "base_uri": "https://localhost:8080/"
        },
        "id": "U7z79nk_52P3",
        "outputId": "fdd014fb-154d-471f-8990-46f60f496e68"
      },
      "source": [
        "!sudo apt-get update\n",
        "!sudo apt-get install -y curl apt-transport-https ssl-cert ca-certificates gnupg lsb-release\n",
        "!curl -1sLf 'https://dl.cloudsmith.io/public/wand/libwandio/cfg/setup/bash.deb.sh' | sudo -E bash \n",
        "!echo \"deb https://pkg.caida.org/os/$(lsb_release -si|awk '{print tolower($0)}') $(lsb_release -sc) main\" | sudo tee /etc/apt/sources.list.d/caida.list\n",
        "!sudo wget -O /etc/apt/trusted.gpg.d/caida.gpg https://pkg.caida.org/os/ubuntu/keyring.gpg "
      ],
      "execution_count": null,
      "outputs": [
        {
          "output_type": "stream",
          "name": "stdout",
          "text": [
            "\r0% [Working]\r            \rGet:1 http://security.ubuntu.com/ubuntu bionic-security InRelease [88.7 kB]\n",
            "Get:2 https://cloud.r-project.org/bin/linux/ubuntu bionic-cran40/ InRelease [3,626 B]\n",
            "Ign:3 https://developer.download.nvidia.com/compute/cuda/repos/ubuntu1804/x86_64  InRelease\n",
            "Get:4 http://ppa.launchpad.net/c2d4u.team/c2d4u4.0+/ubuntu bionic InRelease [15.9 kB]\n",
            "Hit:5 http://archive.ubuntu.com/ubuntu bionic InRelease\n",
            "Ign:6 https://developer.download.nvidia.com/compute/machine-learning/repos/ubuntu1804/x86_64  InRelease\n",
            "Get:7 https://developer.download.nvidia.com/compute/cuda/repos/ubuntu1804/x86_64  Release [696 B]\n",
            "Hit:8 https://developer.download.nvidia.com/compute/machine-learning/repos/ubuntu1804/x86_64  Release\n",
            "Get:9 https://developer.download.nvidia.com/compute/cuda/repos/ubuntu1804/x86_64  Release.gpg [836 B]\n",
            "Get:10 http://archive.ubuntu.com/ubuntu bionic-updates InRelease [88.7 kB]\n",
            "Get:11 http://security.ubuntu.com/ubuntu bionic-security/main amd64 Packages [2,461 kB]\n",
            "Hit:12 http://ppa.launchpad.net/cran/libgit2/ubuntu bionic InRelease\n",
            "Get:13 http://security.ubuntu.com/ubuntu bionic-security/universe amd64 Packages [1,444 kB]\n",
            "Get:14 http://archive.ubuntu.com/ubuntu bionic-backports InRelease [74.6 kB]\n",
            "Hit:15 http://ppa.launchpad.net/deadsnakes/ppa/ubuntu bionic InRelease\n",
            "Get:16 http://security.ubuntu.com/ubuntu bionic-security/restricted amd64 Packages [691 kB]\n",
            "Get:18 http://ppa.launchpad.net/graphics-drivers/ppa/ubuntu bionic InRelease [21.3 kB]\n",
            "Get:19 https://developer.download.nvidia.com/compute/cuda/repos/ubuntu1804/x86_64  Packages [829 kB]\n",
            "Get:20 http://ppa.launchpad.net/c2d4u.team/c2d4u4.0+/ubuntu bionic/main Sources [1,814 kB]\n",
            "Get:21 http://archive.ubuntu.com/ubuntu bionic-updates/universe amd64 Packages [2,225 kB]\n",
            "Get:22 http://ppa.launchpad.net/c2d4u.team/c2d4u4.0+/ubuntu bionic/main amd64 Packages [931 kB]\n",
            "Get:23 http://archive.ubuntu.com/ubuntu bionic-updates/main amd64 Packages [2,898 kB]\n",
            "Get:24 http://archive.ubuntu.com/ubuntu bionic-updates/restricted amd64 Packages [725 kB]\n",
            "Get:25 http://ppa.launchpad.net/graphics-drivers/ppa/ubuntu bionic/main amd64 Packages [44.7 kB]\n",
            "Fetched 14.4 MB in 2s (5,946 kB/s)\n",
            "Reading package lists... Done\n",
            "Reading package lists... Done\n",
            "Building dependency tree       \n",
            "Reading state information... Done\n",
            "lsb-release is already the newest version (9.20170808ubuntu1).\n",
            "lsb-release set to manually installed.\n",
            "ca-certificates is already the newest version (20210119~18.04.2).\n",
            "curl is already the newest version (7.58.0-2ubuntu3.16).\n",
            "gnupg is already the newest version (2.2.4-1ubuntu1.4).\n",
            "gnupg set to manually installed.\n",
            "Suggested packages:\n",
            "  openssl-blacklist\n",
            "The following NEW packages will be installed:\n",
            "  apt-transport-https ssl-cert\n",
            "0 upgraded, 2 newly installed, 0 to remove and 52 not upgraded.\n",
            "Need to get 21.3 kB of archives.\n",
            "After this operation, 218 kB of additional disk space will be used.\n",
            "Get:1 http://archive.ubuntu.com/ubuntu bionic-updates/universe amd64 apt-transport-https all 1.6.14 [4,348 B]\n",
            "Get:2 http://archive.ubuntu.com/ubuntu bionic/main amd64 ssl-cert all 1.0.39 [17.0 kB]\n",
            "Fetched 21.3 kB in 0s (92.3 kB/s)\n",
            "debconf: unable to initialize frontend: Dialog\n",
            "debconf: (No usable dialog-like program is installed, so the dialog based frontend cannot be used. at /usr/share/perl5/Debconf/FrontEnd/Dialog.pm line 76, <> line 2.)\n",
            "debconf: falling back to frontend: Readline\n",
            "debconf: unable to initialize frontend: Readline\n",
            "debconf: (This frontend requires a controlling tty.)\n",
            "debconf: falling back to frontend: Teletype\n",
            "dpkg-preconfigure: unable to re-open stdin: \n",
            "Selecting previously unselected package apt-transport-https.\n",
            "(Reading database ... 155222 files and directories currently installed.)\n",
            "Preparing to unpack .../apt-transport-https_1.6.14_all.deb ...\n",
            "Unpacking apt-transport-https (1.6.14) ...\n",
            "Selecting previously unselected package ssl-cert.\n",
            "Preparing to unpack .../ssl-cert_1.0.39_all.deb ...\n",
            "Unpacking ssl-cert (1.0.39) ...\n",
            "Setting up apt-transport-https (1.6.14) ...\n",
            "Setting up ssl-cert (1.0.39) ...\n",
            "debconf: unable to initialize frontend: Dialog\n",
            "debconf: (No usable dialog-like program is installed, so the dialog based frontend cannot be used. at /usr/share/perl5/Debconf/FrontEnd/Dialog.pm line 76.)\n",
            "debconf: falling back to frontend: Readline\n",
            "Processing triggers for man-db (2.8.3-2ubuntu0.1) ...\n",
            "Executing the  setup script for the 'wand/libwandio' repository ...\n",
            "\n",
            "\u001b[32m   OK\u001b[39;49m: Checking for required executable 'curl' ...\n",
            "\u001b[32m   OK\u001b[39;49m: Checking for required executable 'apt-get' ...\n",
            "\u001b[32m   OK\u001b[39;49m: Detecting your OS distribution and release using system methods ...\n",
            " ^^^^: ... Detected/provided for your OS/distribution, version and architecture:\n",
            " >>>>:\n",
            " >>>>: ... distro=\u001b[32mubuntu\u001b[39;49m  version=\u001b[32m18.04\u001b[39;49m  codename=\u001b[32mbionic\u001b[39;49m  arch=\u001b[32mx86_64\u001b[39;49m  \n",
            " >>>>:\n",
            "\u001b[32m   OK\u001b[39;49m: Checking for apt dependency 'apt-transport-https' ...\n",
            "\u001b[32m   OK\u001b[39;49m: Checking for apt dependency 'ca-certificates' ...\n",
            "\u001b[32m   OK\u001b[39;49m: Checking for apt dependency 'gnupg' ...\n",
            "\u001b[32m   OK\u001b[39;49m: Importing 'wand/libwandio' repository GPG key into apt ...\n",
            "\u001b[32m   OK\u001b[39;49m: Checking if upstream install config is OK ...\n",
            "\u001b[32m   OK\u001b[39;49m: Installing 'wand/libwandio' repository via apt ...\n",
            "\u001b[32m   OK\u001b[39;49m: Updating apt repository metadata cache ...\n",
            "\u001b[32m   OK\u001b[39;49m: The repository has been installed successfully - You're ready to rock!\n",
            "\n",
            "deb https://pkg.caida.org/os/ubuntu bionic main\n",
            "--2021-12-05 19:24:46--  https://pkg.caida.org/os/ubuntu/keyring.gpg\n",
            "Resolving pkg.caida.org (pkg.caida.org)... 192.172.226.26, 192.172.226.21, 192.172.226.6\n",
            "Connecting to pkg.caida.org (pkg.caida.org)|192.172.226.26|:443... connected.\n",
            "HTTP request sent, awaiting response... 200 OK\n",
            "Length: 2310 (2.3K) [application/octet-stream]\n",
            "Saving to: ‘/etc/apt/trusted.gpg.d/caida.gpg’\n",
            "\n",
            "/etc/apt/trusted.gp 100%[===================>]   2.26K  --.-KB/s    in 0s      \n",
            "\n",
            "2021-12-05 19:24:47 (597 MB/s) - ‘/etc/apt/trusted.gpg.d/caida.gpg’ saved [2310/2310]\n",
            "\n"
          ]
        }
      ]
    },
    {
      "cell_type": "markdown",
      "metadata": {
        "id": "N5o5lhce9ely"
      },
      "source": [
        "Installing the BGPStream Packages"
      ]
    },
    {
      "cell_type": "code",
      "metadata": {
        "colab": {
          "base_uri": "https://localhost:8080/"
        },
        "id": "12v6n6ww9jdo",
        "outputId": "410b554b-dc17-4f3b-e542-ebc95196fb62"
      },
      "source": [
        "!sudo apt update; sudo apt-get install bgpstream"
      ],
      "execution_count": null,
      "outputs": [
        {
          "output_type": "stream",
          "name": "stdout",
          "text": [
            "\u001b[33m\r0% [Working]\u001b[0m\r            \rHit:1 https://cloud.r-project.org/bin/linux/ubuntu bionic-cran40/ InRelease\n",
            "\u001b[33m\r0% [Connecting to archive.ubuntu.com (91.189.88.142)] [Connecting to security.u\u001b[0m\u001b[33m\r0% [1 InRelease gpgv 3,626 B] [Connecting to archive.ubuntu.com (91.189.88.142)\u001b[0m\r                                                                               \rGet:2 https://dl.cloudsmith.io/public/wand/libwandio/deb/ubuntu bionic InRelease [5,217 B]\n",
            "\u001b[33m\r0% [1 InRelease gpgv 3,626 B] [Connecting to archive.ubuntu.com (91.189.88.142)\u001b[0m\r                                                                               \rIgn:3 https://developer.download.nvidia.com/compute/cuda/repos/ubuntu1804/x86_64  InRelease\n",
            "\u001b[33m\r0% [1 InRelease gpgv 3,626 B] [Waiting for headers] [Waiting for headers] [Wait\u001b[0m\r                                                                               \rHit:4 http://ppa.launchpad.net/c2d4u.team/c2d4u4.0+/ubuntu bionic InRelease\n",
            "\u001b[33m\r0% [1 InRelease gpgv 3,626 B] [Waiting for headers] [Waiting for headers] [Conn\u001b[0m\r                                                                               \rHit:5 http://archive.ubuntu.com/ubuntu bionic InRelease\n",
            "\r                                                                               \rHit:6 http://security.ubuntu.com/ubuntu bionic-security InRelease\n",
            "\u001b[33m\r0% [1 InRelease gpgv 3,626 B] [Waiting for headers] [Connecting to ppa.launchpa\u001b[0m\u001b[33m\r0% [Waiting for headers] [Connecting to ppa.launchpad.net (91.189.95.85)] [Conn\u001b[0m\u001b[33m\r0% [2 InRelease gpgv 5,217 B] [Waiting for headers] [Connecting to ppa.launchpa\u001b[0m\r                                                                               \rIgn:7 https://developer.download.nvidia.com/compute/machine-learning/repos/ubuntu1804/x86_64  InRelease\n",
            "\u001b[33m\r0% [2 InRelease gpgv 5,217 B] [Waiting for headers] [Connecting to ppa.launchpa\u001b[0m\r                                                                               \rHit:8 https://developer.download.nvidia.com/compute/cuda/repos/ubuntu1804/x86_64  Release\n",
            "\u001b[33m\r0% [2 InRelease gpgv 5,217 B] [Waiting for headers] [Connecting to ppa.launchpa\u001b[0m\r                                                                               \rHit:9 https://developer.download.nvidia.com/compute/machine-learning/repos/ubuntu1804/x86_64  Release\n",
            "Hit:10 http://archive.ubuntu.com/ubuntu bionic-updates InRelease\n",
            "Hit:11 http://ppa.launchpad.net/cran/libgit2/ubuntu bionic InRelease\n",
            "Hit:12 http://archive.ubuntu.com/ubuntu bionic-backports InRelease\n",
            "Get:13 https://pkg.caida.org/os/ubuntu bionic InRelease [3,556 B]\n",
            "Hit:14 http://ppa.launchpad.net/deadsnakes/ppa/ubuntu bionic InRelease\n",
            "Hit:15 http://ppa.launchpad.net/graphics-drivers/ppa/ubuntu bionic InRelease\n",
            "Get:18 https://pkg.caida.org/os/ubuntu bionic/main amd64 Packages [52.3 kB]\n",
            "Fetched 61.1 kB in 1s (43.9 kB/s)\n",
            "Reading package lists... Done\n",
            "Building dependency tree       \n",
            "Reading state information... Done\n",
            "52 packages can be upgraded. Run 'apt list --upgradable' to see them.\n",
            "Reading package lists... Done\n",
            "Building dependency tree       \n",
            "Reading state information... Done\n",
            "The following additional packages will be installed:\n",
            "  bgpstream2-tools libbgpstream2 libbgpstream2-dev librdkafka++1\n",
            "  librdkafka-dev librdkafka1 libwandio1\n",
            "The following NEW packages will be installed:\n",
            "  bgpstream bgpstream2-tools libbgpstream2 libbgpstream2-dev librdkafka++1\n",
            "  librdkafka-dev librdkafka1 libwandio1\n",
            "0 upgraded, 8 newly installed, 0 to remove and 52 not upgraded.\n",
            "Need to get 946 kB of archives.\n",
            "After this operation, 4,371 kB of additional disk space will be used.\n",
            "Get:1 http://archive.ubuntu.com/ubuntu bionic/universe amd64 librdkafka1 amd64 0.11.3-1build1 [293 kB]\n",
            "Get:2 https://pkg.caida.org/os/ubuntu bionic/main amd64 libbgpstream2 amd64 2.2.0 [172 kB]\n",
            "Get:3 http://archive.ubuntu.com/ubuntu bionic/universe amd64 librdkafka++1 amd64 0.11.3-1build1 [31.5 kB]\n",
            "Get:4 http://archive.ubuntu.com/ubuntu bionic/universe amd64 librdkafka-dev amd64 0.11.3-1build1 [387 kB]\n",
            "Get:5 https://pkg.caida.org/os/ubuntu bionic/main amd64 bgpstream2-tools amd64 2.2.0 [10.2 kB]\n",
            "Get:6 https://pkg.caida.org/os/ubuntu bionic/main amd64 libbgpstream2-dev amd64 2.2.0 [22.3 kB]\n",
            "Get:7 https://pkg.caida.org/os/ubuntu bionic/main amd64 bgpstream amd64 2.2.0 [2,700 B]\n",
            "Get:8 https://dl.cloudsmith.io/public/wand/libwandio/deb/ubuntu bionic/main amd64 libwandio1 amd64 4.2.3-1 [27.1 kB]\n",
            "Fetched 946 kB in 1s (635 kB/s)\n",
            "debconf: unable to initialize frontend: Dialog\n",
            "debconf: (No usable dialog-like program is installed, so the dialog based frontend cannot be used. at /usr/share/perl5/Debconf/FrontEnd/Dialog.pm line 76, <> line 8.)\n",
            "debconf: falling back to frontend: Readline\n",
            "debconf: unable to initialize frontend: Readline\n",
            "debconf: (This frontend requires a controlling tty.)\n",
            "debconf: falling back to frontend: Teletype\n",
            "dpkg-preconfigure: unable to re-open stdin: \n",
            "Selecting previously unselected package libwandio1:amd64.\n",
            "(Reading database ... 155235 files and directories currently installed.)\n",
            "Preparing to unpack .../0-libwandio1_4.2.3-1_amd64.deb ...\n",
            "Unpacking libwandio1:amd64 (4.2.3-1) ...\n",
            "Selecting previously unselected package librdkafka1:amd64.\n",
            "Preparing to unpack .../1-librdkafka1_0.11.3-1build1_amd64.deb ...\n",
            "Unpacking librdkafka1:amd64 (0.11.3-1build1) ...\n",
            "Selecting previously unselected package librdkafka++1:amd64.\n",
            "Preparing to unpack .../2-librdkafka++1_0.11.3-1build1_amd64.deb ...\n",
            "Unpacking librdkafka++1:amd64 (0.11.3-1build1) ...\n",
            "Selecting previously unselected package librdkafka-dev:amd64.\n",
            "Preparing to unpack .../3-librdkafka-dev_0.11.3-1build1_amd64.deb ...\n",
            "Unpacking librdkafka-dev:amd64 (0.11.3-1build1) ...\n",
            "Selecting previously unselected package libbgpstream2.\n",
            "Preparing to unpack .../4-libbgpstream2_2.2.0_amd64.deb ...\n",
            "Unpacking libbgpstream2 (2.2.0) ...\n",
            "Selecting previously unselected package bgpstream2-tools.\n",
            "Preparing to unpack .../5-bgpstream2-tools_2.2.0_amd64.deb ...\n",
            "Unpacking bgpstream2-tools (2.2.0) ...\n",
            "Selecting previously unselected package libbgpstream2-dev.\n",
            "Preparing to unpack .../6-libbgpstream2-dev_2.2.0_amd64.deb ...\n",
            "Unpacking libbgpstream2-dev (2.2.0) ...\n",
            "Selecting previously unselected package bgpstream.\n",
            "Preparing to unpack .../7-bgpstream_2.2.0_amd64.deb ...\n",
            "Unpacking bgpstream (2.2.0) ...\n",
            "Setting up librdkafka1:amd64 (0.11.3-1build1) ...\n",
            "Setting up librdkafka++1:amd64 (0.11.3-1build1) ...\n",
            "Setting up libwandio1:amd64 (4.2.3-1) ...\n",
            "Setting up librdkafka-dev:amd64 (0.11.3-1build1) ...\n",
            "Setting up libbgpstream2 (2.2.0) ...\n",
            "Setting up bgpstream2-tools (2.2.0) ...\n",
            "Setting up libbgpstream2-dev (2.2.0) ...\n",
            "Setting up bgpstream (2.2.0) ...\n",
            "Processing triggers for libc-bin (2.27-3ubuntu1.3) ...\n",
            "/sbin/ldconfig.real: /usr/local/lib/python3.7/dist-packages/ideep4py/lib/libmkldnn.so.0 is not a symbolic link\n",
            "\n"
          ]
        }
      ]
    },
    {
      "cell_type": "code",
      "metadata": {
        "colab": {
          "base_uri": "https://localhost:8080/"
        },
        "id": "5MuZgUbW92YI",
        "outputId": "344234ec-26e1-4561-cd04-d26b98653b09"
      },
      "source": [
        "!pip install pybgpstream"
      ],
      "execution_count": null,
      "outputs": [
        {
          "output_type": "stream",
          "name": "stdout",
          "text": [
            "Collecting pybgpstream\n",
            "  Downloading pybgpstream-2.0.2.tar.gz (11 kB)\n",
            "Requirement already satisfied: python-dateutil in /usr/local/lib/python3.7/dist-packages (from pybgpstream) (2.8.2)\n",
            "Requirement already satisfied: six>=1.5 in /usr/local/lib/python3.7/dist-packages (from python-dateutil->pybgpstream) (1.15.0)\n",
            "Building wheels for collected packages: pybgpstream\n",
            "  Building wheel for pybgpstream (setup.py) ... \u001b[?25l\u001b[?25hdone\n",
            "  Created wheel for pybgpstream: filename=pybgpstream-2.0.2-cp37-cp37m-linux_x86_64.whl size=52824 sha256=db7b63ea7b4a90d8fe6551184607b009ec22bc1fda6c883561c55553c69a7c22\n",
            "  Stored in directory: /root/.cache/pip/wheels/e8/89/78/ff40237783b034c4492a7f3b5bfb9f5787a6f4d662ab45c6fe\n",
            "Successfully built pybgpstream\n",
            "Installing collected packages: pybgpstream\n",
            "Successfully installed pybgpstream-2.0.2\n"
          ]
        }
      ]
    },
    {
      "cell_type": "markdown",
      "metadata": {
        "id": "UpFtGPr1_4VZ"
      },
      "source": [
        "Testing the code out"
      ]
    },
    {
      "cell_type": "code",
      "metadata": {
        "id": "d5fNyuzlHIoP"
      },
      "source": [
        "import pybgpstream\n",
        "import pandas as pd\n",
        "\n",
        "\n",
        "stream = pybgpstream.BGPStream(\n",
        "    from_time=\"2017-04-26 00:00:00\", until_time=\"2017-04-26 10:00:00 UTC\",\n",
        "    collectors=[\"rrc00\"],\n",
        "    record_type=\"updates\",\n",
        ")\n",
        "\n",
        "# record_type = updates or RIBS (routing information base (RIB), is a data table stored in a router or a network host that lists the routes to particular network destinations)\n",
        "\"\"\"\n",
        "for elem in stream:\n",
        "   # record fields can be accessed directly from elem\n",
        "   # e.g. elem.time\n",
        "   # or via elem.record\n",
        "   # e.g. elem.record.time\n",
        "   print(elem)\n",
        "\"\"\"\n",
        "\n",
        "updates = []\n",
        "\n",
        "for elem in stream:\n",
        "  update_array = [elem.time, elem.peer_asn, elem.peer_address]\n",
        "  # print(update_array), element time is in int\n",
        "  updates.append(update_array)\n",
        "\n",
        "update_df = pd.DataFrame(updates, columns=['Time', 'Peer ASN', 'Peer Address'])\n",
        "# Idk what the column prefixes are here for the PyBGPStream class that will be relevant, so these are the three classes that I am taking for now\n",
        "# I am trying to plot a graph that shows the number of updates per normal\n",
        "# I will make a separate class once the project objective has been defined\n",
        "update_df[\"Time\"] = pd.to_numeric(update_df[\"Time\"], downcast=\"integer\")\n",
        "# update_df"
      ],
      "execution_count": null,
      "outputs": []
    },
    {
      "cell_type": "markdown",
      "metadata": {
        "id": "6j-beprnqbr6"
      },
      "source": [
        "this is of the type:\n",
        "record_type | type | time | project | collector | router | router_ip | peer_asn | peer_address | maybe_field(prefix) | maybe_field(nexthop) | maybe_field(as-path) | communities | old-state | new-state\n"
      ]
    },
    {
      "cell_type": "markdown",
      "metadata": {
        "id": "4reRXMukfr5X"
      },
      "source": [
        "I am grouping the updates by time in this one."
      ]
    },
    {
      "cell_type": "code",
      "metadata": {
        "id": "F7v_RiTMSb7y"
      },
      "source": [
        "update_df.sort_values([\"Time\"])\n",
        "\n",
        "updateCount = update_df[\"Time\"].value_counts()"
      ],
      "execution_count": null,
      "outputs": []
    },
    {
      "cell_type": "code",
      "metadata": {
        "id": "xp0SVLYepZlp"
      },
      "source": [
        "df_2=pd.DataFrame({'Time':updateCount.index, 'frequency':updateCount.values})\n",
        "sortedUpdateCount = df_2.sort_values(\"Time\")\n",
        "# sortedUpdateCount"
      ],
      "execution_count": null,
      "outputs": []
    },
    {
      "cell_type": "code",
      "metadata": {
        "colab": {
          "base_uri": "https://localhost:8080/",
          "height": 298
        },
        "id": "cOCbgVY0dcVv",
        "outputId": "8de2ea59-4b01-4b3e-ec0e-f88f3813e660"
      },
      "source": [
        "import matplotlib.pyplot as plt\n",
        "\n",
        "plt.plot(sortedUpdateCount[\"Time\"], sortedUpdateCount[\"frequency\"])"
      ],
      "execution_count": null,
      "outputs": [
        {
          "output_type": "execute_result",
          "data": {
            "text/plain": [
              "[<matplotlib.lines.Line2D at 0x7ff7d32cd250>]"
            ]
          },
          "metadata": {},
          "execution_count": 11
        },
        {
          "output_type": "display_data",
          "data": {
            "image/png": "[encoded data removed]",
            "text/plain": [
              "<Figure size 432x288 with 1 Axes>"
            ]
          },
          "metadata": {
            "needs_background": "light"
          }
        }
      ]
    },
    {
      "cell_type": "code",
      "metadata": {
        "id": "15Sy0APcv995"
      },
      "source": [
        "import pandas as pd\n",
        "code_redi_df = pd.read_csv(\"/content/drive/MyDrive/BGP_Anomaly_Detection-main/dataset/Code_Red_I.csv\")\n",
        "slammer_df = pd.read_csv(\"/content/drive/MyDrive/BGP_Anomaly_Detection-main/dataset/Slammer.csv\")\n",
        "nimda_df = pd.read_csv(\"/content/drive/MyDrive/BGP_Anomaly_Detection-main/dataset/Nimda.csv\")"
      ],
      "execution_count": null,
      "outputs": []
    },
    {
      "cell_type": "code",
      "metadata": {
        "colab": {
          "base_uri": "https://localhost:8080/"
        },
        "id": "lAbWexEWNlgy",
        "outputId": "ce42a171-7980-4f2d-d9e0-16e6bd5b4323"
      },
      "source": [
        "from google.colab import drive\n",
        "drive.mount('/content/drive')"
      ],
      "execution_count": null,
      "outputs": [
        {
          "output_type": "stream",
          "name": "stdout",
          "text": [
            "Drive already mounted at /content/drive; to attempt to forcibly remount, call drive.mount(\"/content/drive\", force_remount=True).\n"
          ]
        }
      ]
    },
    {
      "cell_type": "code",
      "metadata": {
        "id": "_y41-Iyq0g8V",
        "colab": {
          "base_uri": "https://localhost:8080/"
        },
        "outputId": "3302383d-8aa8-4de5-eddb-bfd17523f07e"
      },
      "source": [
        "nimda_df.shape"
      ],
      "execution_count": null,
      "outputs": [
        {
          "output_type": "execute_result",
          "data": {
            "text/plain": [
              "(8608, 42)"
            ]
          },
          "metadata": {},
          "execution_count": 54
        }
      ]
    },
    {
      "cell_type": "markdown",
      "metadata": {
        "id": "O5WNU2Ln0jRR"
      },
      "source": [
        "Combining Dataset"
      ]
    },
    {
      "cell_type": "code",
      "metadata": {
        "id": "qQl3wa_L0htC"
      },
      "source": [
        "dataset1 = pd.concat([slammer_df,nimda_df])"
      ],
      "execution_count": null,
      "outputs": []
    },
    {
      "cell_type": "markdown",
      "metadata": {
        "id": "UkGo-VQN0oso"
      },
      "source": [
        "Upscaling Minority class for Balanced Dataset"
      ]
    },
    {
      "cell_type": "code",
      "metadata": {
        "id": "IsThiHxu0zjD"
      },
      "source": [
        "from sklearn.utils import resample"
      ],
      "execution_count": null,
      "outputs": []
    },
    {
      "cell_type": "code",
      "metadata": {
        "id": "1K660TYC00Jm",
        "colab": {
          "base_uri": "https://localhost:8080/",
          "height": 323
        },
        "outputId": "eb4f565b-fd5e-4ab8-fafe-dc122d576c61"
      },
      "source": [
        "df_minority = dataset1[dataset1.Label==1]\n",
        "df_majority = dataset1[dataset1.Label==-1]\n",
        "df_minority_upsampled = resample(df_minority, replace=True, n_samples = 12882, random_state=1)"
      ],
      "execution_count": null,
      "outputs": [
        {
          "output_type": "error",
          "ename": "AttributeError",
          "evalue": "ignored",
          "traceback": [
            "\u001b[0;31m---------------------------------------------------------------------------\u001b[0m",
            "\u001b[0;31mAttributeError\u001b[0m                            Traceback (most recent call last)",
            "\u001b[0;32m<ipython-input-57-de184a508827>\u001b[0m in \u001b[0;36m<module>\u001b[0;34m()\u001b[0m\n\u001b[0;32m----> 1\u001b[0;31m \u001b[0mdf_minority\u001b[0m \u001b[0;34m=\u001b[0m \u001b[0mdataset1\u001b[0m\u001b[0;34m[\u001b[0m\u001b[0mdataset1\u001b[0m\u001b[0;34m.\u001b[0m\u001b[0mLabel\u001b[0m\u001b[0;34m==\u001b[0m\u001b[0;36m1\u001b[0m\u001b[0;34m]\u001b[0m\u001b[0;34m\u001b[0m\u001b[0;34m\u001b[0m\u001b[0m\n\u001b[0m\u001b[1;32m      2\u001b[0m \u001b[0mdf_majority\u001b[0m \u001b[0;34m=\u001b[0m \u001b[0mdataset1\u001b[0m\u001b[0;34m[\u001b[0m\u001b[0mdataset1\u001b[0m\u001b[0;34m.\u001b[0m\u001b[0mLabel\u001b[0m\u001b[0;34m==\u001b[0m\u001b[0;34m-\u001b[0m\u001b[0;36m1\u001b[0m\u001b[0;34m]\u001b[0m\u001b[0;34m\u001b[0m\u001b[0;34m\u001b[0m\u001b[0m\n\u001b[1;32m      3\u001b[0m \u001b[0mdf_minority_upsampled\u001b[0m \u001b[0;34m=\u001b[0m \u001b[0mresample\u001b[0m\u001b[0;34m(\u001b[0m\u001b[0mdf_minority\u001b[0m\u001b[0;34m,\u001b[0m \u001b[0mreplace\u001b[0m\u001b[0;34m=\u001b[0m\u001b[0;32mTrue\u001b[0m\u001b[0;34m,\u001b[0m \u001b[0mn_samples\u001b[0m \u001b[0;34m=\u001b[0m \u001b[0;36m12882\u001b[0m\u001b[0;34m,\u001b[0m \u001b[0mrandom_state\u001b[0m\u001b[0;34m=\u001b[0m\u001b[0;36m1\u001b[0m\u001b[0;34m)\u001b[0m\u001b[0;34m\u001b[0m\u001b[0;34m\u001b[0m\u001b[0m\n",
            "\u001b[0;32m/usr/local/lib/python3.7/dist-packages/pandas/core/generic.py\u001b[0m in \u001b[0;36m__getattr__\u001b[0;34m(self, name)\u001b[0m\n\u001b[1;32m   5139\u001b[0m             \u001b[0;32mif\u001b[0m \u001b[0mself\u001b[0m\u001b[0;34m.\u001b[0m\u001b[0m_info_axis\u001b[0m\u001b[0;34m.\u001b[0m\u001b[0m_can_hold_identifiers_and_holds_name\u001b[0m\u001b[0;34m(\u001b[0m\u001b[0mname\u001b[0m\u001b[0;34m)\u001b[0m\u001b[0;34m:\u001b[0m\u001b[0;34m\u001b[0m\u001b[0;34m\u001b[0m\u001b[0m\n\u001b[1;32m   5140\u001b[0m                 \u001b[0;32mreturn\u001b[0m \u001b[0mself\u001b[0m\u001b[0;34m[\u001b[0m\u001b[0mname\u001b[0m\u001b[0;34m]\u001b[0m\u001b[0;34m\u001b[0m\u001b[0;34m\u001b[0m\u001b[0m\n\u001b[0;32m-> 5141\u001b[0;31m             \u001b[0;32mreturn\u001b[0m \u001b[0mobject\u001b[0m\u001b[0;34m.\u001b[0m\u001b[0m__getattribute__\u001b[0m\u001b[0;34m(\u001b[0m\u001b[0mself\u001b[0m\u001b[0;34m,\u001b[0m \u001b[0mname\u001b[0m\u001b[0;34m)\u001b[0m\u001b[0;34m\u001b[0m\u001b[0;34m\u001b[0m\u001b[0m\n\u001b[0m\u001b[1;32m   5142\u001b[0m \u001b[0;34m\u001b[0m\u001b[0m\n\u001b[1;32m   5143\u001b[0m     \u001b[0;32mdef\u001b[0m \u001b[0m__setattr__\u001b[0m\u001b[0;34m(\u001b[0m\u001b[0mself\u001b[0m\u001b[0;34m,\u001b[0m \u001b[0mname\u001b[0m\u001b[0;34m:\u001b[0m \u001b[0mstr\u001b[0m\u001b[0;34m,\u001b[0m \u001b[0mvalue\u001b[0m\u001b[0;34m)\u001b[0m \u001b[0;34m->\u001b[0m \u001b[0;32mNone\u001b[0m\u001b[0;34m:\u001b[0m\u001b[0;34m\u001b[0m\u001b[0;34m\u001b[0m\u001b[0m\n",
            "\u001b[0;31mAttributeError\u001b[0m: 'DataFrame' object has no attribute 'Label'"
          ]
        }
      ]
    },
    {
      "cell_type": "markdown",
      "metadata": {
        "id": "0d8dvz3i015v"
      },
      "source": [
        "Combining majority and up-scaled minority to create a balanced dataset"
      ]
    },
    {
      "cell_type": "code",
      "metadata": {
        "id": "7FM_G4yb06RP"
      },
      "source": [
        "dataset1 = pd.concat([df_minority_upsampled, df_majority])\n",
        "print(dataset1.shape)\n",
        "dataset1.reset_index(drop=True)"
      ],
      "execution_count": null,
      "outputs": []
    },
    {
      "cell_type": "code",
      "metadata": {
        "id": "QwbBGjUc09eN"
      },
      "source": [
        "X_train1 = dataset1.drop(dataset1.columns[[0,1,2,3,41]], axis=1)\n",
        "Y_train1 = dataset1.iloc[:,41]\n",
        "Y_train1 = [0 if ele>0 else 1 for ele in Y_train1]\n",
        "Y_train1 = pd.Series(Y_train1)\n",
        "X_test1 = code_redi_df.drop(code_redi_df.columns[[0,1,2,3,41]], axis=1)\n",
        "Y_test1 = code_redi_df.iloc[:,41]\n",
        "Y_test1 = [0 if ele>0 else 1 for ele in Y_test1]\n",
        "Y_test1 = pd.Series(Y_test1)"
      ],
      "execution_count": null,
      "outputs": []
    },
    {
      "cell_type": "code",
      "metadata": {
        "id": "ZAp8w4d01A1z"
      },
      "source": [
        "X_train1.iloc[:,0]\n",
        "Y_train1\n",
        "# X_train1.reset_index(drop=True)"
      ],
      "execution_count": null,
      "outputs": []
    },
    {
      "cell_type": "code",
      "metadata": {
        "id": "lpG20PwL1Ecq"
      },
      "source": [
        "import matplotlib.pyplot as plt\n",
        "import seaborn as sns\n",
        "from pylab import savefig"
      ],
      "execution_count": null,
      "outputs": []
    },
    {
      "cell_type": "code",
      "metadata": {
        "id": "pvdSn10X1GB9"
      },
      "source": [
        "plt.figure(figsize=(30,24))\n",
        "sns_plot = sns.heatmap(dataset1.iloc[:,4:42].corr(method='spearman'), annot=True)\n",
        "fig = sns_plot.get_figure()\n",
        "fig.savefig(\"heatmap_corr_spearman.png\")\n",
        "# plt.savefig(\"Heat_map.png\")\n",
        "plt.title(\"Correlation Matrix for all 37 features\")"
      ],
      "execution_count": null,
      "outputs": []
    },
    {
      "cell_type": "markdown",
      "metadata": {
        "id": "QOtl9N_B1IH0"
      },
      "source": [
        "MRMR"
      ]
    },
    {
      "cell_type": "code",
      "metadata": {
        "id": "-Ni0oQ-U1JVM"
      },
      "source": [
        "mrmr_dataset = dataset1.drop(dataset1.columns[20:40], axis=1)\n",
        "X_train1 = dataset1.drop(dataset1.columns[[0,1,2,3,41]], axis=1)\n",
        "Y_train1 = dataset1.iloc[:,41]"
      ],
      "execution_count": null,
      "outputs": []
    },
    {
      "cell_type": "code",
      "metadata": {
        "colab": {
          "base_uri": "https://localhost:8080/"
        },
        "id": "hAmRn9Bh1LTD",
        "outputId": "ee9ab9e2-bcc0-4b16-cb75-3a4a39bcd08d"
      },
      "source": [
        "!pip install git+https://github.com/smazzanti/mrmr\n"
      ],
      "execution_count": null,
      "outputs": [
        {
          "output_type": "stream",
          "name": "stdout",
          "text": [
            "Collecting git+https://github.com/smazzanti/mrmr\n",
            "  Cloning https://github.com/smazzanti/mrmr to /tmp/pip-req-build-w8_zpkv9\n",
            "  Running command git clone -q https://github.com/smazzanti/mrmr /tmp/pip-req-build-w8_zpkv9\n",
            "Requirement already satisfied: tqdm in /usr/local/lib/python3.7/dist-packages (from mrmr==0.1) (4.62.3)\n",
            "Requirement already satisfied: joblib in /usr/local/lib/python3.7/dist-packages (from mrmr==0.1) (1.1.0)\n",
            "Requirement already satisfied: pandas>=1.0.3 in /usr/local/lib/python3.7/dist-packages (from mrmr==0.1) (1.1.5)\n",
            "Requirement already satisfied: numpy>=1.18.1 in /usr/local/lib/python3.7/dist-packages (from mrmr==0.1) (1.19.5)\n",
            "Requirement already satisfied: sklearn in /usr/local/lib/python3.7/dist-packages (from mrmr==0.1) (0.0)\n",
            "Collecting category_encoders\n",
            "  Downloading category_encoders-2.3.0-py2.py3-none-any.whl (82 kB)\n",
            "\u001b[K     |████████████████████████████████| 82 kB 305 kB/s \n",
            "\u001b[?25hRequirement already satisfied: python-dateutil>=2.7.3 in /usr/local/lib/python3.7/dist-packages (from pandas>=1.0.3->mrmr==0.1) (2.8.2)\n",
            "Requirement already satisfied: pytz>=2017.2 in /usr/local/lib/python3.7/dist-packages (from pandas>=1.0.3->mrmr==0.1) (2018.9)\n",
            "Requirement already satisfied: six>=1.5 in /usr/local/lib/python3.7/dist-packages (from python-dateutil>=2.7.3->pandas>=1.0.3->mrmr==0.1) (1.15.0)\n",
            "Requirement already satisfied: scipy>=1.0.0 in /usr/local/lib/python3.7/dist-packages (from category_encoders->mrmr==0.1) (1.4.1)\n",
            "Requirement already satisfied: patsy>=0.5.1 in /usr/local/lib/python3.7/dist-packages (from category_encoders->mrmr==0.1) (0.5.2)\n",
            "Requirement already satisfied: scikit-learn>=0.20.0 in /usr/local/lib/python3.7/dist-packages (from category_encoders->mrmr==0.1) (1.0.1)\n",
            "Requirement already satisfied: statsmodels>=0.9.0 in /usr/local/lib/python3.7/dist-packages (from category_encoders->mrmr==0.1) (0.10.2)\n",
            "Requirement already satisfied: threadpoolctl>=2.0.0 in /usr/local/lib/python3.7/dist-packages (from scikit-learn>=0.20.0->category_encoders->mrmr==0.1) (3.0.0)\n",
            "Building wheels for collected packages: mrmr\n",
            "  Building wheel for mrmr (setup.py) ... \u001b[?25l\u001b[?25hdone\n",
            "  Created wheel for mrmr: filename=mrmr-0.1-py3-none-any.whl size=16139 sha256=2263918ee60e0a219ede7e1ebd772c656ed6bb70ce49620b3ee45876f2787295\n",
            "  Stored in directory: /tmp/pip-ephem-wheel-cache-m4ip8sh8/wheels/97/75/f0/1af73f24fe1c223090326fd094140b43c61420a721e0ace303\n",
            "Successfully built mrmr\n",
            "Installing collected packages: category-encoders, mrmr\n",
            "Successfully installed category-encoders-2.3.0 mrmr-0.1\n"
          ]
        }
      ]
    },
    {
      "cell_type": "code",
      "metadata": {
        "id": "1STcEOsQ1TbI"
      },
      "source": [
        "from mrmr import mrmr_classif\n",
        "\n",
        "selected_features = mrmr_classif(X_train1, Y_train1, K = 5)\n",
        "# K is the number of features to select"
      ],
      "execution_count": null,
      "outputs": []
    },
    {
      "cell_type": "code",
      "metadata": {
        "id": "DxzI0lQG1U2y",
        "colab": {
          "base_uri": "https://localhost:8080/",
          "height": 167
        },
        "outputId": "60a62b85-12b9-4ae8-8973-8348c03e5f60"
      },
      "source": [
        "print(selected_features)"
      ],
      "execution_count": null,
      "outputs": [
        {
          "output_type": "error",
          "ename": "NameError",
          "evalue": "ignored",
          "traceback": [
            "\u001b[0;31m---------------------------------------------------------------------------\u001b[0m",
            "\u001b[0;31mNameError\u001b[0m                                 Traceback (most recent call last)",
            "\u001b[0;32m<ipython-input-23-7fed019170b9>\u001b[0m in \u001b[0;36m<module>\u001b[0;34m()\u001b[0m\n\u001b[0;32m----> 1\u001b[0;31m \u001b[0mprint\u001b[0m\u001b[0;34m(\u001b[0m\u001b[0mselected_features\u001b[0m\u001b[0;34m)\u001b[0m\u001b[0;34m\u001b[0m\u001b[0;34m\u001b[0m\u001b[0m\n\u001b[0m",
            "\u001b[0;31mNameError\u001b[0m: name 'selected_features' is not defined"
          ]
        }
      ]
    },
    {
      "cell_type": "markdown",
      "metadata": {
        "id": "89ax_lQtW7iz"
      },
      "source": [
        "Function to get the index of the selected features"
      ]
    },
    {
      "cell_type": "code",
      "metadata": {
        "id": "rkQ19QNxW7UO"
      },
      "source": [
        "def get_index(selected_features):\n",
        "  index=[]\n",
        "  for i in selected_features:\n",
        "    loc=X_train1.columns.get_loc(i)\n",
        "    index.append(loc)\n",
        "  return index"
      ],
      "execution_count": null,
      "outputs": []
    },
    {
      "cell_type": "code",
      "metadata": {
        "id": "TXYhZkFJXAF5"
      },
      "source": [
        "get_index(selected_features)"
      ],
      "execution_count": null,
      "outputs": []
    },
    {
      "cell_type": "markdown",
      "metadata": {
        "id": "kOiVYF4p2Yiw"
      },
      "source": [
        "**K fold cross validation**"
      ]
    },
    {
      "cell_type": "code",
      "metadata": {
        "colab": {
          "base_uri": "https://localhost:8080/",
          "height": 487
        },
        "id": "1hpY_yVkiu0V",
        "outputId": "29a09034-66ce-433d-89b9-cce55921a174"
      },
      "source": [
        "dataset1 = pd.concat([slammer_df,nimda_df,code_redi_df ],  ignore_index=True)\n",
        "dataset1.head(10)"
      ],
      "execution_count": null,
      "outputs": [
        {
          "output_type": "execute_result",
          "data": {
            "text/html": [
              "<div>\n",
              "<style scoped>\n",
              "    .dataframe tbody tr th:only-of-type {\n",
              "        vertical-align: middle;\n",
              "    }\n",
              "\n",
              "    .dataframe tbody tr th {\n",
              "        vertical-align: top;\n",
              "    }\n",
              "\n",
              "    .dataframe thead th {\n",
              "        text-align: right;\n",
              "    }\n",
              "</style>\n",
              "<table border=\"1\" class=\"dataframe\">\n",
              "  <thead>\n",
              "    <tr style=\"text-align: right;\">\n",
              "      <th></th>\n",
              "      <th>Hours and Minutes</th>\n",
              "      <th>Hours</th>\n",
              "      <th>Minutes</th>\n",
              "      <th>Seconds</th>\n",
              "      <th>Number of Announcements</th>\n",
              "      <th>Number of Withdrawals</th>\n",
              "      <th>Number of announced NLRI prefixes</th>\n",
              "      <th>Number of withdrawn NLRI prefixes</th>\n",
              "      <th>Average AS-path length</th>\n",
              "      <th>Maximum AS-path length</th>\n",
              "      <th>Average Unique AS Path length</th>\n",
              "      <th>Number of Duplicate Announcements</th>\n",
              "      <th>Number of Duplicate Withdrawals</th>\n",
              "      <th>Number of Implicit Withdrawals</th>\n",
              "      <th>Average Edit Distance</th>\n",
              "      <th>Maximum Edit Distance</th>\n",
              "      <th>Inter-arrival Time</th>\n",
              "      <th>Maximum edit distance7</th>\n",
              "      <th>Maximum edit distance8</th>\n",
              "      <th>Maximum edit distance9</th>\n",
              "      <th>Maximum edit distance10</th>\n",
              "      <th>Maximum edit distance11</th>\n",
              "      <th>Maximum edit distance12</th>\n",
              "      <th>Maximum edit distance13</th>\n",
              "      <th>Maximum edit distance14</th>\n",
              "      <th>Maximum edit distance15</th>\n",
              "      <th>Maximum edit distance16</th>\n",
              "      <th>Maximum edit distance17</th>\n",
              "      <th>Maximum AS-path length7</th>\n",
              "      <th>Maximum AS-path length8</th>\n",
              "      <th>Maximum AS-path length9</th>\n",
              "      <th>Maximum AS-path length10</th>\n",
              "      <th>Maximum AS-path length11</th>\n",
              "      <th>Maximum AS-path length12</th>\n",
              "      <th>Maximum AS-path length13</th>\n",
              "      <th>Maximum AS-path length14</th>\n",
              "      <th>Maximum AS-path length15</th>\n",
              "      <th>Number of Interior Gateway Protocol (IGP) packets</th>\n",
              "      <th>Number of Exterior Gateway Protocol (EGP) packets</th>\n",
              "      <th>Number of incomplete packets</th>\n",
              "      <th>Packet size (B)</th>\n",
              "      <th>Label</th>\n",
              "    </tr>\n",
              "  </thead>\n",
              "  <tbody>\n",
              "    <tr>\n",
              "      <th>0</th>\n",
              "      <td>0</td>\n",
              "      <td>0</td>\n",
              "      <td>0</td>\n",
              "      <td>8</td>\n",
              "      <td>46</td>\n",
              "      <td>4</td>\n",
              "      <td>88</td>\n",
              "      <td>13</td>\n",
              "      <td>6</td>\n",
              "      <td>12</td>\n",
              "      <td>6</td>\n",
              "      <td>1</td>\n",
              "      <td>54</td>\n",
              "      <td>4</td>\n",
              "      <td>12</td>\n",
              "      <td>0.8</td>\n",
              "      <td>6</td>\n",
              "      <td>0</td>\n",
              "      <td>1</td>\n",
              "      <td>0</td>\n",
              "      <td>0</td>\n",
              "      <td>0</td>\n",
              "      <td>0</td>\n",
              "      <td>0</td>\n",
              "      <td>0</td>\n",
              "      <td>0</td>\n",
              "      <td>0</td>\n",
              "      <td>0</td>\n",
              "      <td>0</td>\n",
              "      <td>0</td>\n",
              "      <td>0</td>\n",
              "      <td>0</td>\n",
              "      <td>1</td>\n",
              "      <td>0</td>\n",
              "      <td>0</td>\n",
              "      <td>0</td>\n",
              "      <td>0</td>\n",
              "      <td>41</td>\n",
              "      <td>0</td>\n",
              "      <td>5</td>\n",
              "      <td>243</td>\n",
              "      <td>-1</td>\n",
              "    </tr>\n",
              "    <tr>\n",
              "      <th>1</th>\n",
              "      <td>1</td>\n",
              "      <td>0</td>\n",
              "      <td>1</td>\n",
              "      <td>4</td>\n",
              "      <td>40</td>\n",
              "      <td>4</td>\n",
              "      <td>161</td>\n",
              "      <td>28</td>\n",
              "      <td>6</td>\n",
              "      <td>8</td>\n",
              "      <td>6</td>\n",
              "      <td>27</td>\n",
              "      <td>96</td>\n",
              "      <td>0</td>\n",
              "      <td>8</td>\n",
              "      <td>0.7</td>\n",
              "      <td>5</td>\n",
              "      <td>0</td>\n",
              "      <td>0</td>\n",
              "      <td>0</td>\n",
              "      <td>0</td>\n",
              "      <td>0</td>\n",
              "      <td>0</td>\n",
              "      <td>0</td>\n",
              "      <td>0</td>\n",
              "      <td>0</td>\n",
              "      <td>0</td>\n",
              "      <td>0</td>\n",
              "      <td>1</td>\n",
              "      <td>0</td>\n",
              "      <td>0</td>\n",
              "      <td>0</td>\n",
              "      <td>0</td>\n",
              "      <td>0</td>\n",
              "      <td>0</td>\n",
              "      <td>0</td>\n",
              "      <td>0</td>\n",
              "      <td>34</td>\n",
              "      <td>0</td>\n",
              "      <td>6</td>\n",
              "      <td>287</td>\n",
              "      <td>-1</td>\n",
              "    </tr>\n",
              "    <tr>\n",
              "      <th>2</th>\n",
              "      <td>2</td>\n",
              "      <td>0</td>\n",
              "      <td>2</td>\n",
              "      <td>0</td>\n",
              "      <td>59</td>\n",
              "      <td>7</td>\n",
              "      <td>133</td>\n",
              "      <td>69</td>\n",
              "      <td>6</td>\n",
              "      <td>13</td>\n",
              "      <td>6</td>\n",
              "      <td>2</td>\n",
              "      <td>103</td>\n",
              "      <td>11</td>\n",
              "      <td>13</td>\n",
              "      <td>1.1</td>\n",
              "      <td>6</td>\n",
              "      <td>0</td>\n",
              "      <td>0</td>\n",
              "      <td>1</td>\n",
              "      <td>0</td>\n",
              "      <td>0</td>\n",
              "      <td>0</td>\n",
              "      <td>0</td>\n",
              "      <td>0</td>\n",
              "      <td>0</td>\n",
              "      <td>0</td>\n",
              "      <td>0</td>\n",
              "      <td>0</td>\n",
              "      <td>0</td>\n",
              "      <td>0</td>\n",
              "      <td>0</td>\n",
              "      <td>0</td>\n",
              "      <td>1</td>\n",
              "      <td>0</td>\n",
              "      <td>0</td>\n",
              "      <td>0</td>\n",
              "      <td>55</td>\n",
              "      <td>0</td>\n",
              "      <td>4</td>\n",
              "      <td>256</td>\n",
              "      <td>-1</td>\n",
              "    </tr>\n",
              "    <tr>\n",
              "      <th>3</th>\n",
              "      <td>3</td>\n",
              "      <td>0</td>\n",
              "      <td>3</td>\n",
              "      <td>12</td>\n",
              "      <td>52</td>\n",
              "      <td>4</td>\n",
              "      <td>138</td>\n",
              "      <td>32</td>\n",
              "      <td>5</td>\n",
              "      <td>7</td>\n",
              "      <td>6</td>\n",
              "      <td>12</td>\n",
              "      <td>105</td>\n",
              "      <td>0</td>\n",
              "      <td>7</td>\n",
              "      <td>0.9</td>\n",
              "      <td>5</td>\n",
              "      <td>0</td>\n",
              "      <td>0</td>\n",
              "      <td>0</td>\n",
              "      <td>0</td>\n",
              "      <td>0</td>\n",
              "      <td>0</td>\n",
              "      <td>0</td>\n",
              "      <td>0</td>\n",
              "      <td>0</td>\n",
              "      <td>0</td>\n",
              "      <td>1</td>\n",
              "      <td>0</td>\n",
              "      <td>0</td>\n",
              "      <td>0</td>\n",
              "      <td>0</td>\n",
              "      <td>0</td>\n",
              "      <td>0</td>\n",
              "      <td>0</td>\n",
              "      <td>0</td>\n",
              "      <td>0</td>\n",
              "      <td>48</td>\n",
              "      <td>0</td>\n",
              "      <td>4</td>\n",
              "      <td>263</td>\n",
              "      <td>-1</td>\n",
              "    </tr>\n",
              "    <tr>\n",
              "      <th>4</th>\n",
              "      <td>4</td>\n",
              "      <td>0</td>\n",
              "      <td>4</td>\n",
              "      <td>9</td>\n",
              "      <td>49</td>\n",
              "      <td>2</td>\n",
              "      <td>119</td>\n",
              "      <td>24</td>\n",
              "      <td>6</td>\n",
              "      <td>9</td>\n",
              "      <td>6</td>\n",
              "      <td>1</td>\n",
              "      <td>63</td>\n",
              "      <td>0</td>\n",
              "      <td>9</td>\n",
              "      <td>0.8</td>\n",
              "      <td>5</td>\n",
              "      <td>0</td>\n",
              "      <td>0</td>\n",
              "      <td>0</td>\n",
              "      <td>0</td>\n",
              "      <td>0</td>\n",
              "      <td>0</td>\n",
              "      <td>0</td>\n",
              "      <td>0</td>\n",
              "      <td>0</td>\n",
              "      <td>0</td>\n",
              "      <td>0</td>\n",
              "      <td>0</td>\n",
              "      <td>1</td>\n",
              "      <td>0</td>\n",
              "      <td>0</td>\n",
              "      <td>0</td>\n",
              "      <td>0</td>\n",
              "      <td>0</td>\n",
              "      <td>0</td>\n",
              "      <td>0</td>\n",
              "      <td>46</td>\n",
              "      <td>0</td>\n",
              "      <td>3</td>\n",
              "      <td>252</td>\n",
              "      <td>-1</td>\n",
              "    </tr>\n",
              "    <tr>\n",
              "      <th>5</th>\n",
              "      <td>5</td>\n",
              "      <td>0</td>\n",
              "      <td>5</td>\n",
              "      <td>4</td>\n",
              "      <td>80</td>\n",
              "      <td>3</td>\n",
              "      <td>231</td>\n",
              "      <td>26</td>\n",
              "      <td>7</td>\n",
              "      <td>11</td>\n",
              "      <td>7</td>\n",
              "      <td>8</td>\n",
              "      <td>228</td>\n",
              "      <td>0</td>\n",
              "      <td>11</td>\n",
              "      <td>1.3</td>\n",
              "      <td>7</td>\n",
              "      <td>1</td>\n",
              "      <td>0</td>\n",
              "      <td>0</td>\n",
              "      <td>0</td>\n",
              "      <td>0</td>\n",
              "      <td>0</td>\n",
              "      <td>0</td>\n",
              "      <td>0</td>\n",
              "      <td>0</td>\n",
              "      <td>0</td>\n",
              "      <td>0</td>\n",
              "      <td>0</td>\n",
              "      <td>0</td>\n",
              "      <td>0</td>\n",
              "      <td>1</td>\n",
              "      <td>0</td>\n",
              "      <td>0</td>\n",
              "      <td>0</td>\n",
              "      <td>0</td>\n",
              "      <td>0</td>\n",
              "      <td>76</td>\n",
              "      <td>0</td>\n",
              "      <td>4</td>\n",
              "      <td>270</td>\n",
              "      <td>-1</td>\n",
              "    </tr>\n",
              "    <tr>\n",
              "      <th>6</th>\n",
              "      <td>6</td>\n",
              "      <td>0</td>\n",
              "      <td>6</td>\n",
              "      <td>0</td>\n",
              "      <td>43</td>\n",
              "      <td>7</td>\n",
              "      <td>126</td>\n",
              "      <td>60</td>\n",
              "      <td>6</td>\n",
              "      <td>11</td>\n",
              "      <td>6</td>\n",
              "      <td>3</td>\n",
              "      <td>67</td>\n",
              "      <td>12</td>\n",
              "      <td>11</td>\n",
              "      <td>0.8</td>\n",
              "      <td>6</td>\n",
              "      <td>1</td>\n",
              "      <td>0</td>\n",
              "      <td>0</td>\n",
              "      <td>0</td>\n",
              "      <td>0</td>\n",
              "      <td>0</td>\n",
              "      <td>0</td>\n",
              "      <td>0</td>\n",
              "      <td>0</td>\n",
              "      <td>0</td>\n",
              "      <td>0</td>\n",
              "      <td>0</td>\n",
              "      <td>0</td>\n",
              "      <td>0</td>\n",
              "      <td>1</td>\n",
              "      <td>0</td>\n",
              "      <td>0</td>\n",
              "      <td>0</td>\n",
              "      <td>0</td>\n",
              "      <td>0</td>\n",
              "      <td>42</td>\n",
              "      <td>0</td>\n",
              "      <td>1</td>\n",
              "      <td>258</td>\n",
              "      <td>-1</td>\n",
              "    </tr>\n",
              "    <tr>\n",
              "      <th>7</th>\n",
              "      <td>7</td>\n",
              "      <td>0</td>\n",
              "      <td>7</td>\n",
              "      <td>15</td>\n",
              "      <td>23</td>\n",
              "      <td>1</td>\n",
              "      <td>38</td>\n",
              "      <td>3</td>\n",
              "      <td>7</td>\n",
              "      <td>10</td>\n",
              "      <td>7</td>\n",
              "      <td>2</td>\n",
              "      <td>33</td>\n",
              "      <td>0</td>\n",
              "      <td>10</td>\n",
              "      <td>0.4</td>\n",
              "      <td>7</td>\n",
              "      <td>0</td>\n",
              "      <td>0</td>\n",
              "      <td>0</td>\n",
              "      <td>0</td>\n",
              "      <td>0</td>\n",
              "      <td>0</td>\n",
              "      <td>0</td>\n",
              "      <td>0</td>\n",
              "      <td>0</td>\n",
              "      <td>0</td>\n",
              "      <td>0</td>\n",
              "      <td>0</td>\n",
              "      <td>0</td>\n",
              "      <td>1</td>\n",
              "      <td>0</td>\n",
              "      <td>0</td>\n",
              "      <td>0</td>\n",
              "      <td>0</td>\n",
              "      <td>0</td>\n",
              "      <td>0</td>\n",
              "      <td>22</td>\n",
              "      <td>0</td>\n",
              "      <td>1</td>\n",
              "      <td>222</td>\n",
              "      <td>-1</td>\n",
              "    </tr>\n",
              "    <tr>\n",
              "      <th>8</th>\n",
              "      <td>8</td>\n",
              "      <td>0</td>\n",
              "      <td>8</td>\n",
              "      <td>8</td>\n",
              "      <td>39</td>\n",
              "      <td>3</td>\n",
              "      <td>54</td>\n",
              "      <td>3</td>\n",
              "      <td>6</td>\n",
              "      <td>12</td>\n",
              "      <td>6</td>\n",
              "      <td>2</td>\n",
              "      <td>34</td>\n",
              "      <td>1</td>\n",
              "      <td>12</td>\n",
              "      <td>0.7</td>\n",
              "      <td>6</td>\n",
              "      <td>0</td>\n",
              "      <td>1</td>\n",
              "      <td>0</td>\n",
              "      <td>0</td>\n",
              "      <td>0</td>\n",
              "      <td>0</td>\n",
              "      <td>0</td>\n",
              "      <td>0</td>\n",
              "      <td>0</td>\n",
              "      <td>0</td>\n",
              "      <td>0</td>\n",
              "      <td>0</td>\n",
              "      <td>0</td>\n",
              "      <td>0</td>\n",
              "      <td>0</td>\n",
              "      <td>1</td>\n",
              "      <td>0</td>\n",
              "      <td>0</td>\n",
              "      <td>0</td>\n",
              "      <td>0</td>\n",
              "      <td>35</td>\n",
              "      <td>0</td>\n",
              "      <td>4</td>\n",
              "      <td>214</td>\n",
              "      <td>-1</td>\n",
              "    </tr>\n",
              "    <tr>\n",
              "      <th>9</th>\n",
              "      <td>9</td>\n",
              "      <td>0</td>\n",
              "      <td>9</td>\n",
              "      <td>7</td>\n",
              "      <td>40</td>\n",
              "      <td>4</td>\n",
              "      <td>134</td>\n",
              "      <td>8</td>\n",
              "      <td>7</td>\n",
              "      <td>12</td>\n",
              "      <td>7</td>\n",
              "      <td>5</td>\n",
              "      <td>64</td>\n",
              "      <td>1</td>\n",
              "      <td>12</td>\n",
              "      <td>0.7</td>\n",
              "      <td>7</td>\n",
              "      <td>0</td>\n",
              "      <td>1</td>\n",
              "      <td>0</td>\n",
              "      <td>0</td>\n",
              "      <td>0</td>\n",
              "      <td>0</td>\n",
              "      <td>0</td>\n",
              "      <td>0</td>\n",
              "      <td>0</td>\n",
              "      <td>0</td>\n",
              "      <td>0</td>\n",
              "      <td>0</td>\n",
              "      <td>0</td>\n",
              "      <td>0</td>\n",
              "      <td>0</td>\n",
              "      <td>1</td>\n",
              "      <td>0</td>\n",
              "      <td>0</td>\n",
              "      <td>0</td>\n",
              "      <td>0</td>\n",
              "      <td>35</td>\n",
              "      <td>0</td>\n",
              "      <td>5</td>\n",
              "      <td>265</td>\n",
              "      <td>-1</td>\n",
              "    </tr>\n",
              "  </tbody>\n",
              "</table>\n",
              "</div>"
            ],
            "text/plain": [
              "   Hours and Minutes  Hours  ...  Packet size (B)  Label\n",
              "0                  0      0  ...              243     -1\n",
              "1                  1      0  ...              287     -1\n",
              "2                  2      0  ...              256     -1\n",
              "3                  3      0  ...              263     -1\n",
              "4                  4      0  ...              252     -1\n",
              "5                  5      0  ...              270     -1\n",
              "6                  6      0  ...              258     -1\n",
              "7                  7      0  ...              222     -1\n",
              "8                  8      0  ...              214     -1\n",
              "9                  9      0  ...              265     -1\n",
              "\n",
              "[10 rows x 42 columns]"
            ]
          },
          "metadata": {},
          "execution_count": 11
        }
      ]
    },
    {
      "cell_type": "code",
      "metadata": {
        "colab": {
          "base_uri": "https://localhost:8080/"
        },
        "id": "mOsR75_dVyOu",
        "outputId": "35fb0cb1-e826-4191-f6c8-7a13f60293fd"
      },
      "source": [
        "from numpy import array\n",
        "from sklearn.model_selection import KFold\n",
        "import csv\n",
        "\n",
        "kfold = KFold( n_splits = 10 )\n",
        "\n",
        "for train, test in kfold.split( dataset1 ):\n",
        "  print(len(test))\n",
        "  print(len(train))"
      ],
      "execution_count": null,
      "outputs": [
        {
          "output_type": "stream",
          "name": "stdout",
          "text": [
            "2301\n",
            "20708\n",
            "2301\n",
            "20708\n",
            "2301\n",
            "20708\n",
            "2301\n",
            "20708\n",
            "2301\n",
            "20708\n",
            "2301\n",
            "20708\n",
            "2301\n",
            "20708\n",
            "2301\n",
            "20708\n",
            "2301\n",
            "20708\n",
            "2300\n",
            "20709\n"
          ]
        }
      ]
    }
  ]
}